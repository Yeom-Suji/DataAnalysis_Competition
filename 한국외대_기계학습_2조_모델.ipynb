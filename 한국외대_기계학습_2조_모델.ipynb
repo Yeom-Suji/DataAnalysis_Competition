{
 "cells": [
  {
   "cell_type": "code",
   "execution_count": 1,
   "id": "616411f6",
   "metadata": {},
   "outputs": [
    {
     "data": {
      "text/plain": [
       "(8430.453824930604, 0.9651107849389875)"
      ]
     },
     "execution_count": 1,
     "metadata": {},
     "output_type": "execute_result"
    }
   ],
   "source": [
    "import pandas as pd\n",
    "from sklearn.preprocessing import OneHotEncoder\n",
    "from sklearn.model_selection import train_test_split\n",
    "from sklearn.ensemble import RandomForestRegressor\n",
    "from sklearn.metrics import mean_squared_error, r2_score\n",
    "import joblib\n",
    "\n",
    "file_path = \"/Users/pongpongi/Desktop/Machine Learining/project/연봉_예측/Salary.csv\"\n",
    "\n",
    "# CSV 파일에서 원본 데이터를 불러옵니다.\n",
    "data = pd.read_csv(file_path)\n",
    "\n",
    "# '인종'과 'senior'여부는 중요하지 않으므로 'Race'와 'Senior' 열을 삭제합니다.\n",
    "data = data.drop(['Race', 'Senior'], axis=1)\n",
    "data = data[data['Years of Experience'] < 20] # 경력 연수가 20년 이상인 데이터는 제거합니다.\n",
    "data = data[data['Age'] < 45] # 나이가 45세 이상인 데이터는 제거합니다.\n",
    "\n",
    "# 관심있는 직업만 필터링합니다.\n",
    "job_titles = ['Software Engineer', 'Full Stack Engineer', 'Data Scientist',\n",
    "              'Software Engineer Manager', 'Data Analyst', 'Project Engineer',\n",
    "              'Back end Developer', 'Front end Developer', 'Software Developer',\n",
    "              'Web Developer', 'Director of Data Science']\n",
    "data = data[data['Job Title'].isin(job_titles)]\n",
    "\n",
    "# 'Job Title', 'Country', 'Gender' 열에 대해 원-핫 인코딩을 수행합니다.\n",
    "# One-hot encoding은 범주형 데이터를 처리할 때 유용한 인코딩 방식입니다.\n",
    "# 직업명에 대해 필터링을 많이 거쳤기 때문에 원 핫 인코딩 방법으로 수행합니다.\n",
    "encoder = OneHotEncoder()\n",
    "encoded_data = encoder.fit_transform(data[['Job Title', 'Country', 'Gender']]) \n",
    "encoded_df = pd.DataFrame(encoded_data.toarray(), columns=encoder.get_feature_names_out()) # 인코딩된 열을 데이터 프레임으로 변환합니다.\n",
    "\n",
    "# 인코딩된 열을 나머지 데이터와 결합합니다.\n",
    "data.reset_index(drop=True, inplace=True)\n",
    "data = pd.concat([data.drop(['Job Title', 'Country', 'Gender'], axis=1), encoded_df], axis=1)\n",
    "\n",
    "# 랜덤 포레스트에 사용할 데이터를 준비합니다.\n",
    "X = data.drop('Salary', axis=1)\n",
    "y = data['Salary']\n",
    "X_train, X_test, y_train, y_test = train_test_split(X, y, test_size=0.2, random_state=42)\n",
    "\n",
    "# 랜덤 포레스트 회귀 모델을 훈련합니다.\n",
    "rf_model = RandomForestRegressor(random_state=42)\n",
    "rf_model.fit(X_train, y_train)\n",
    "\n",
    "# 모델을 사용하여 예측하고 평가합니다.\n",
    "y_pred = rf_model.predict(X_test)\n",
    "rmse = mean_squared_error(y_test, y_pred, squared=False)\n",
    "r2 = r2_score(y_test, y_pred)\n",
    "\n",
    "# 모델과 인코더를 파일로 저장합니다.\n",
    "# joblib.dump(rf_model, 'salary_prediction_model_4.pkl')\n",
    "# joblib.dump(encoder, 'encoder.pkl')\n",
    "\n",
    "rmse, r2"
   ]
  },
  {
   "cell_type": "code",
   "execution_count": null,
   "id": "26ca1d7b",
   "metadata": {},
   "outputs": [],
   "source": []
  }
 ],
 "metadata": {
  "kernelspec": {
   "display_name": "23_2_ml",
   "language": "python",
   "name": "23_2_ml"
  },
  "language_info": {
   "codemirror_mode": {
    "name": "ipython",
    "version": 3
   },
   "file_extension": ".py",
   "mimetype": "text/x-python",
   "name": "python",
   "nbconvert_exporter": "python",
   "pygments_lexer": "ipython3",
   "version": "3.11.5"
  },
  "toc": {
   "base_numbering": 1,
   "nav_menu": {},
   "number_sections": true,
   "sideBar": true,
   "skip_h1_title": false,
   "title_cell": "Table of Contents",
   "title_sidebar": "Contents",
   "toc_cell": false,
   "toc_position": {},
   "toc_section_display": true,
   "toc_window_display": false
  }
 },
 "nbformat": 4,
 "nbformat_minor": 5
}
